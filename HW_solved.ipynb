{
 "cells": [
  {
   "cell_type": "markdown",
   "id": "06b4251a-8e55-40b0-94c3-6b8176d3ace1",
   "metadata": {},
   "source": [
    "# Homework: predicting C$_2$H$_2$ and C$_2$ energy levels \n",
    "\n",
    "## C$_2$H$_2$\n",
    "\n",
    " From the [Marvel website](http://kkrk.chem.elte.hu/marvelonline/data_files/C2H2_energylevels_2019-03-20.txt) download the moelcule's states file. The file contains 7 vibrational quantum numbers (v1, v2, v3, v4, v5, l4, l5), two rotational numbers (k, J), and some symmetry numbers (ef, op, u/g and symm). Remove the states with -1, as they indicate unknown levels. \n",
    "\n",
    "\n",
    "| v1 | v2 | v3 | v4 | l4 | v5 | l5 | k | J | ef | op    | Energy     | Unc      | NumTrans | u/g | Sym            |\n",
    "|----|----|----|----|----|----|----|---|---|----|-------|------------|----------|----------|-----|----------------|\n",
    "| 0  | 0  | 0  | 0  | 0  | 0  | 0  | 0 | 1 | e  | ortho | 2.353286   | 0.000000 | 204      | g   | sigma_g_plus  |\n",
    "| 0  | 0  | 0  | 0  | 0  | 0  | 0  | 0 | 3 | e  | ortho | 14.119512  | 0.000041 | 289      | g   | sigma_g_plus  |\n",
    "\n",
    "\n",
    "\n",
    "| Column          | Description                                                                 |\n",
    "|------------------|-----------------------------------------------------------------------------|\n",
    "| `v1, v2, v3, v4, l4, v5, l5` | Quantum numbers representing vibrational or rotational states.       |\n",
    "| `k`              | Likely a rotational quantum number.                                         |\n",
    "| `J`              | Total angular momentum quantum number.                                      |\n",
    "| `ef`             | Parity (e or f) or electronic state.                                        |\n",
    "| `op`             | Symmetry or spin designation (e.g., ortho/para).                            |\n",
    "| `Energy`         | Energy of the state in arbitrary units (often cm⁻¹ or eV).                  |\n",
    "| `Unc`            | Uncertainty in the energy value.                                            |\n",
    "| `NumTrans`       | Number of transitions involving this state.                                 |\n",
    "| `u/g`            | Symmetry under inversion (ungerade = u, gerade = g).                        |\n",
    "| `Sym`            | Full symmetry label, such as irreducible representation of the state.       |\n",
    "\n",
    "[MARVEL website for C2H2](http://kkrk.chem.elte.hu/marvelonline/getdata.php?molid=8&isotopid=21)\n"
   ]
  },
  {
   "cell_type": "code",
   "execution_count": 2,
   "id": "e8154e1b-c0b9-4b5a-988f-cd0d56247892",
   "metadata": {},
   "outputs": [
    {
     "name": "stdout",
     "output_type": "stream",
     "text": [
      "NumPy version: 1.26.4\n",
      "Pandas version: 1.5.3\n"
     ]
    }
   ],
   "source": [
    "import pandas as pd\n",
    "from sklearn.preprocessing import StandardScaler\n",
    "from sklearn.model_selection import train_test_split\n",
    "from sklearn.ensemble import RandomForestRegressor\n",
    "from sklearn.metrics import mean_absolute_error, mean_squared_error, r2_score\n",
    "import numpy as np \n",
    "\n",
    "print(f\"NumPy version: {np.__version__}\")\n",
    "print(f\"Pandas version: {pd.__version__}\")"
   ]
  },
  {
   "cell_type": "markdown",
   "id": "339eb01c-211c-4f1c-8e6f-511041c69e53",
   "metadata": {},
   "source": [
    "Start by handling the data from the file and turning it into a pandas dataframe, to eliminate uncertain states. "
   ]
  },
  {
   "cell_type": "code",
   "execution_count": 4,
   "id": "78020044-cf76-4b37-8c5a-fcbeb2bc5e7f",
   "metadata": {},
   "outputs": [
    {
     "data": {
      "text/html": [
       "<div>\n",
       "<style scoped>\n",
       "    .dataframe tbody tr th:only-of-type {\n",
       "        vertical-align: middle;\n",
       "    }\n",
       "\n",
       "    .dataframe tbody tr th {\n",
       "        vertical-align: top;\n",
       "    }\n",
       "\n",
       "    .dataframe thead th {\n",
       "        text-align: right;\n",
       "    }\n",
       "</style>\n",
       "<table border=\"1\" class=\"dataframe\">\n",
       "  <thead>\n",
       "    <tr style=\"text-align: right;\">\n",
       "      <th></th>\n",
       "      <th>v1</th>\n",
       "      <th>v2</th>\n",
       "      <th>v3</th>\n",
       "      <th>v4</th>\n",
       "      <th>l4</th>\n",
       "      <th>v5</th>\n",
       "      <th>l5</th>\n",
       "      <th>k</th>\n",
       "      <th>J</th>\n",
       "      <th>ef</th>\n",
       "      <th>op</th>\n",
       "      <th>u/g</th>\n",
       "      <th>Sym</th>\n",
       "      <th>Energy</th>\n",
       "    </tr>\n",
       "  </thead>\n",
       "  <tbody>\n",
       "    <tr>\n",
       "      <th>0</th>\n",
       "      <td>0</td>\n",
       "      <td>0</td>\n",
       "      <td>0</td>\n",
       "      <td>0</td>\n",
       "      <td>0</td>\n",
       "      <td>0</td>\n",
       "      <td>0</td>\n",
       "      <td>0</td>\n",
       "      <td>1</td>\n",
       "      <td>0</td>\n",
       "      <td>0</td>\n",
       "      <td>0</td>\n",
       "      <td>0</td>\n",
       "      <td>2.353286</td>\n",
       "    </tr>\n",
       "    <tr>\n",
       "      <th>1</th>\n",
       "      <td>0</td>\n",
       "      <td>0</td>\n",
       "      <td>0</td>\n",
       "      <td>0</td>\n",
       "      <td>0</td>\n",
       "      <td>0</td>\n",
       "      <td>0</td>\n",
       "      <td>0</td>\n",
       "      <td>3</td>\n",
       "      <td>0</td>\n",
       "      <td>0</td>\n",
       "      <td>0</td>\n",
       "      <td>0</td>\n",
       "      <td>14.119512</td>\n",
       "    </tr>\n",
       "    <tr>\n",
       "      <th>2</th>\n",
       "      <td>0</td>\n",
       "      <td>0</td>\n",
       "      <td>0</td>\n",
       "      <td>0</td>\n",
       "      <td>0</td>\n",
       "      <td>0</td>\n",
       "      <td>0</td>\n",
       "      <td>0</td>\n",
       "      <td>5</td>\n",
       "      <td>0</td>\n",
       "      <td>0</td>\n",
       "      <td>0</td>\n",
       "      <td>0</td>\n",
       "      <td>35.297925</td>\n",
       "    </tr>\n",
       "    <tr>\n",
       "      <th>3</th>\n",
       "      <td>0</td>\n",
       "      <td>0</td>\n",
       "      <td>0</td>\n",
       "      <td>0</td>\n",
       "      <td>0</td>\n",
       "      <td>0</td>\n",
       "      <td>0</td>\n",
       "      <td>0</td>\n",
       "      <td>7</td>\n",
       "      <td>0</td>\n",
       "      <td>0</td>\n",
       "      <td>0</td>\n",
       "      <td>0</td>\n",
       "      <td>65.887099</td>\n",
       "    </tr>\n",
       "    <tr>\n",
       "      <th>4</th>\n",
       "      <td>0</td>\n",
       "      <td>0</td>\n",
       "      <td>0</td>\n",
       "      <td>0</td>\n",
       "      <td>0</td>\n",
       "      <td>0</td>\n",
       "      <td>0</td>\n",
       "      <td>0</td>\n",
       "      <td>9</td>\n",
       "      <td>0</td>\n",
       "      <td>0</td>\n",
       "      <td>0</td>\n",
       "      <td>0</td>\n",
       "      <td>105.885007</td>\n",
       "    </tr>\n",
       "    <tr>\n",
       "      <th>...</th>\n",
       "      <td>...</td>\n",
       "      <td>...</td>\n",
       "      <td>...</td>\n",
       "      <td>...</td>\n",
       "      <td>...</td>\n",
       "      <td>...</td>\n",
       "      <td>...</td>\n",
       "      <td>...</td>\n",
       "      <td>...</td>\n",
       "      <td>...</td>\n",
       "      <td>...</td>\n",
       "      <td>...</td>\n",
       "      <td>...</td>\n",
       "      <td>...</td>\n",
       "    </tr>\n",
       "    <tr>\n",
       "      <th>11208</th>\n",
       "      <td>3</td>\n",
       "      <td>0</td>\n",
       "      <td>1</td>\n",
       "      <td>0</td>\n",
       "      <td>0</td>\n",
       "      <td>0</td>\n",
       "      <td>0</td>\n",
       "      <td>0</td>\n",
       "      <td>31</td>\n",
       "      <td>0</td>\n",
       "      <td>1</td>\n",
       "      <td>1</td>\n",
       "      <td>4</td>\n",
       "      <td>14172.875479</td>\n",
       "    </tr>\n",
       "    <tr>\n",
       "      <th>11209</th>\n",
       "      <td>2</td>\n",
       "      <td>2</td>\n",
       "      <td>1</td>\n",
       "      <td>0</td>\n",
       "      <td>0</td>\n",
       "      <td>0</td>\n",
       "      <td>0</td>\n",
       "      <td>0</td>\n",
       "      <td>21</td>\n",
       "      <td>0</td>\n",
       "      <td>1</td>\n",
       "      <td>1</td>\n",
       "      <td>4</td>\n",
       "      <td>14243.079656</td>\n",
       "    </tr>\n",
       "    <tr>\n",
       "      <th>11210</th>\n",
       "      <td>3</td>\n",
       "      <td>0</td>\n",
       "      <td>1</td>\n",
       "      <td>0</td>\n",
       "      <td>0</td>\n",
       "      <td>0</td>\n",
       "      <td>0</td>\n",
       "      <td>0</td>\n",
       "      <td>33</td>\n",
       "      <td>0</td>\n",
       "      <td>1</td>\n",
       "      <td>1</td>\n",
       "      <td>4</td>\n",
       "      <td>14321.985812</td>\n",
       "    </tr>\n",
       "    <tr>\n",
       "      <th>11211</th>\n",
       "      <td>2</td>\n",
       "      <td>2</td>\n",
       "      <td>1</td>\n",
       "      <td>0</td>\n",
       "      <td>0</td>\n",
       "      <td>0</td>\n",
       "      <td>0</td>\n",
       "      <td>0</td>\n",
       "      <td>23</td>\n",
       "      <td>0</td>\n",
       "      <td>1</td>\n",
       "      <td>1</td>\n",
       "      <td>4</td>\n",
       "      <td>14346.088023</td>\n",
       "    </tr>\n",
       "    <tr>\n",
       "      <th>11212</th>\n",
       "      <td>2</td>\n",
       "      <td>2</td>\n",
       "      <td>1</td>\n",
       "      <td>0</td>\n",
       "      <td>0</td>\n",
       "      <td>0</td>\n",
       "      <td>0</td>\n",
       "      <td>0</td>\n",
       "      <td>25</td>\n",
       "      <td>0</td>\n",
       "      <td>1</td>\n",
       "      <td>1</td>\n",
       "      <td>4</td>\n",
       "      <td>14458.218570</td>\n",
       "    </tr>\n",
       "  </tbody>\n",
       "</table>\n",
       "<p>8731 rows × 14 columns</p>\n",
       "</div>"
      ],
      "text/plain": [
       "       v1  v2  v3  v4  l4  v5  l5  k   J  ef  op  u/g  Sym        Energy\n",
       "0       0   0   0   0   0   0   0  0   1   0   0    0    0      2.353286\n",
       "1       0   0   0   0   0   0   0  0   3   0   0    0    0     14.119512\n",
       "2       0   0   0   0   0   0   0  0   5   0   0    0    0     35.297925\n",
       "3       0   0   0   0   0   0   0  0   7   0   0    0    0     65.887099\n",
       "4       0   0   0   0   0   0   0  0   9   0   0    0    0    105.885007\n",
       "...    ..  ..  ..  ..  ..  ..  .. ..  ..  ..  ..  ...  ...           ...\n",
       "11208   3   0   1   0   0   0   0  0  31   0   1    1    4  14172.875479\n",
       "11209   2   2   1   0   0   0   0  0  21   0   1    1    4  14243.079656\n",
       "11210   3   0   1   0   0   0   0  0  33   0   1    1    4  14321.985812\n",
       "11211   2   2   1   0   0   0   0  0  23   0   1    1    4  14346.088023\n",
       "11212   2   2   1   0   0   0   0  0  25   0   1    1    4  14458.218570\n",
       "\n",
       "[8731 rows x 14 columns]"
      ]
     },
     "execution_count": 4,
     "metadata": {},
     "output_type": "execute_result"
    }
   ],
   "source": [
    "# read the dataset file\n",
    "df = pd.read_csv('C2H2_energylevels.txt', sep=r'\\s+', engine='python')\n",
    "\n",
    "# remove rows of the dataset\n",
    "df = df.drop(['Unc', 'NumTrans'], axis=1)\n",
    "\n",
    "# rearange the columns so that the energy is the last column \n",
    "df = df[[col for col in df.columns if col != 'Energy'] + ['Energy']]\n",
    "\n",
    "# add a numerical label to each of the symmetry labels\n",
    "df['ef'] = pd.factorize(df['ef'])[0]\n",
    "df['op'] = pd.factorize(df['op'])[0]\n",
    "df['u/g'] = pd.factorize(df['u/g'])[0]\n",
    "codes, sym_labs = pd.factorize(df['Sym'])\n",
    "df['Sym'] = pd.factorize(df['Sym'])[0]\n",
    "\n",
    "\n",
    "# check if there are -1 in the quantum numbers and delete the rows\n",
    "columns_to_check = ['v1', 'v2', 'v3', 'v4', 'l4', 'v5', 'l5']\n",
    "df = df[~df[columns_to_check].isin([-1]).any(axis=1)]\n",
    "\n",
    "df"
   ]
  },
  {
   "cell_type": "markdown",
   "id": "aed06ded-bf4f-4082-8c7c-f3dc166548bb",
   "metadata": {},
   "source": [
    "### 1.1. Build two models of your choice for predicting the states, using the vibrational and rotational numbers. Try to reach the chemical accuracy (~1 kcal/mol or ~0.05 eV)."
   ]
  },
  {
   "cell_type": "markdown",
   "id": "fe89ca71-78d5-409e-8ead-a3dc9bf93ae5",
   "metadata": {},
   "source": [
    "In this case, we remove the symmetry quantum numbers and the uncertainty, leaving as features only the vibrational and rotational quantum numbers. The target of this model is to predict the energy. We indicate the features, and the target and separate the features and targets in two different datasets. "
   ]
  },
  {
   "cell_type": "code",
   "execution_count": 7,
   "id": "7f7e1384-407e-4d18-9953-b302bfb9266b",
   "metadata": {},
   "outputs": [],
   "source": [
    "features = [\"v1\", \"v2\", \"v3\", \"v4\", \"l4\", \"v5\", \"l5\", \"k\", \"J\"]\n",
    "target = \"Energy\"\n",
    "\n",
    "# we separate the dataset\n",
    "X = df[features]\n",
    "y = df[target]\n",
    "\n",
    "# we generate the train and test sets \n",
    "X_train, X_test, y_train, y_test = train_test_split(X, y, test_size=0.2, random_state=42)"
   ]
  },
  {
   "attachments": {},
   "cell_type": "markdown",
   "id": "46f94369-ab85-45a3-80a6-2953247040ce",
   "metadata": {},
   "source": [
    "#### 1.1.1 Kernel model with only vibrational and rotational quantum numbers\n",
    "\n",
    "A kernel model is able to perform regression by implicity mapping data to a higher dimesional space, and is able to estimate the value of a point based on the weighted combination of similarities to other points in the dataset. In this case the kernel used is the radial basis function (rbf).\n",
    "\n",
    "This is imported from the sklearn library."
   ]
  },
  {
   "cell_type": "code",
   "execution_count": 9,
   "id": "16355ae9-7a9d-478b-871d-261f2970d318",
   "metadata": {},
   "outputs": [],
   "source": [
    "from sklearn.kernel_ridge import KernelRidge\n",
    "scaler = StandardScaler()\n",
    "X_train = scaler.fit_transform(X_train)\n",
    "X_test = scaler.transform(X_test)\n",
    "\n",
    "# Train Kernel Ridge Regression model\n",
    "model = KernelRidge(kernel='rbf', alpha=1.0, gamma=0.1)  # 'rbf' kernel for non-linearity\n",
    "model.fit(X_train, y_train)\n",
    "\n",
    "# Predict on the test set\n",
    "y_pred = model.predict(X_test)"
   ]
  },
  {
   "cell_type": "markdown",
   "id": "4f1cc079-7905-4bf2-89cf-a79aaa7cb7ae",
   "metadata": {},
   "source": [
    "The performance metrics of the model such as mean absolute error, mean squared error, root mean squared error and $R^2$ can be obtained with the sklearn functions `mean_absolute_error, mean_squared_error, r2_score`."
   ]
  },
  {
   "cell_type": "code",
   "execution_count": 11,
   "id": "ed347f5c-d63b-44e1-a047-ad9d16195b93",
   "metadata": {},
   "outputs": [
    {
     "name": "stdout",
     "output_type": "stream",
     "text": [
      "Kernel Ridge Regression Metrics:\n",
      "Mean Absolute Error (MAE): 142.2962\n",
      "Mean Squared Error (MSE): 48228.3108\n",
      "Root Mean Squared Error (RMSE): 219.6095\n",
      "R-squared (R²): 0.9934\n"
     ]
    }
   ],
   "source": [
    "# Calculate performance metrics\n",
    "mae = mean_absolute_error(y_test, y_pred)\n",
    "mse = mean_squared_error(y_test, y_pred)\n",
    "rmse = np.sqrt(mse)\n",
    "r2 = r2_score(y_test, y_pred)\n",
    "\n",
    "# Display metrics\n",
    "print(\"Kernel Ridge Regression Metrics:\")\n",
    "print(f\"Mean Absolute Error (MAE): {mae:.4f}\")\n",
    "print(f\"Mean Squared Error (MSE): {mse:.4f}\")\n",
    "print(f\"Root Mean Squared Error (RMSE): {rmse:.4f}\")\n",
    "print(f\"R-squared (R²): {r2:.4f}\")"
   ]
  },
  {
   "attachments": {},
   "cell_type": "markdown",
   "id": "e2c030b6-4bc2-4508-bed7-4ea6d85295d6",
   "metadata": {},
   "source": [
    "#### 1.1.2 Random Forest with only vibrational and rotational quantum numbers\n",
    "\n",
    "As the objective is to generate a model that performs regression, a random forest regressor will be used. A random forest model performs regression by combining predictions from multiple decision trees, each trained on random subsets of the data. It estimates the value of a point by averaging the outputs of these trees. \n",
    "\n",
    "This is imported from the sklearn library. The model is trained with 100 estimators and fit to the training sets. "
   ]
  },
  {
   "cell_type": "code",
   "execution_count": 13,
   "id": "22383dcb-85d9-4e66-b92a-0a08efaf3129",
   "metadata": {},
   "outputs": [],
   "source": [
    "# Train a random forest regressor\n",
    "model = RandomForestRegressor(random_state=42, n_estimators=100)\n",
    "model.fit(X_train, y_train)\n",
    "\n",
    "# model predictions\n",
    "y_pred = model.predict(X_test)"
   ]
  },
  {
   "cell_type": "markdown",
   "id": "9f2ce5c9-1546-4f5b-be4d-a6316998224d",
   "metadata": {},
   "source": [
    "The performance metrics of the model such as mean absolute error, mean squared error, root mean squared error and $R^2$ can be obtained with the sklearn functions `mean_absolute_error, mean_squared_error, r2_score`."
   ]
  },
  {
   "cell_type": "code",
   "execution_count": 15,
   "id": "63250ca8-2002-440d-b24c-b09e153602b5",
   "metadata": {},
   "outputs": [
    {
     "name": "stdout",
     "output_type": "stream",
     "text": [
      "Model Performance Metrics:\n",
      "Mean Absolute Error (MAE): 24.7488\n",
      "Mean Squared Error (MSE): 3129.1619\n",
      "Root Mean Squared Error (RMSE): 55.9389\n",
      "R-squared (R²): 0.9996\n"
     ]
    }
   ],
   "source": [
    "# performance metrics\n",
    "mae = mean_absolute_error(y_test, y_pred)\n",
    "mse = mean_squared_error(y_test, y_pred)\n",
    "rmse = np.sqrt(mse)\n",
    "r2 = r2_score(y_test, y_pred)\n",
    "\n",
    "print(\"Model Performance Metrics:\")\n",
    "print(f\"Mean Absolute Error (MAE): {mae:.4f}\")\n",
    "print(f\"Mean Squared Error (MSE): {mse:.4f}\")\n",
    "print(f\"Root Mean Squared Error (RMSE): {rmse:.4f}\")\n",
    "print(f\"R-squared (R²): {r2:.4f}\")"
   ]
  },
  {
   "cell_type": "markdown",
   "id": "93c1b050-07e4-4d81-be3a-def124892a12",
   "metadata": {},
   "source": [
    "#### 1.1.3 Model comparison without symmetry quantum numbers\n",
    "The model performance metrics are collected in the following table:\n",
    "\n",
    "| Performance metric | Kernel ridge regression | Random Forest |\n",
    "|- |- |- | \n",
    "|Mean Absolute Error | $ 142.2962$ | $24.7488$|\n",
    "|Mean Squared Error| $ 48228.3108$ |$3129.1619$ |\n",
    "|Root Mean Squared Error | $219.6095$ | $55.9389$ |\n",
    "|$R^2$|$0.9934$ | $0.9996$ |\n",
    "\n",
    "Here it can be seen that the random forest model outperforms in every performance metric to the kernel ridge regression. This is expected, due to how the two different models work. \n",
    "\n",
    "Kernel ridge regression relies on a predefined kernel to capture nonlinear interactions between features. As a result, if the kernel is not carefully tuned to the specific data being analyzed, the model's accuracy may be poor. \n",
    "\n",
    "In contrast, random forest is more flexible because it does not make strong assumptions about the data, unlike kernel-based models. The ensemble of random trees effectively captures complex, nonlinear feature interactions, leading to more accurate predictions."
   ]
  },
  {
   "cell_type": "markdown",
   "id": "ed9c7108-e904-4d3c-91b5-830b78c08b42",
   "metadata": {},
   "source": [
    "### 1.2 Perform the same task adding the symmetry quantum numbers. How do the results change?\n",
    "In this case now the symmetry quantum numbers are added to the features. Due to the symmetry quantum numbers being strings, a numeric label is assigned to each unique identifier, in order for the models to be able to handle the data. "
   ]
  },
  {
   "cell_type": "code",
   "execution_count": 18,
   "id": "a4fb30ed-abeb-40da-beaa-d3be44c4ae7c",
   "metadata": {},
   "outputs": [],
   "source": [
    "features = [\"v1\", \"v2\", \"v3\", \"v4\", \"l4\", \"v5\", \"l5\", \"k\", \"J\", \"ef\", \"op\", \"u/g\", \"Sym\"]\n",
    "target = \"Energy\"\n",
    "\n",
    "# we separate the dataset\n",
    "X = df[features]\n",
    "y = df[target]\n",
    "\n",
    "# we generate the train and test sets \n",
    "X_train, X_test, y_train, y_test = train_test_split(X, y, test_size=0.2, random_state=42)"
   ]
  },
  {
   "cell_type": "markdown",
   "id": "c74a5f4a-bb38-46f0-ae97-eafecf4de0fa",
   "metadata": {},
   "source": [
    "#### 1.1.1 Kernel model with symmetry quantum numbers"
   ]
  },
  {
   "cell_type": "code",
   "execution_count": 20,
   "id": "174abef8-b833-4c19-a391-a94bfaa239f3",
   "metadata": {},
   "outputs": [
    {
     "name": "stdout",
     "output_type": "stream",
     "text": [
      "Kernel Ridge Regression Metrics:\n",
      "Mean Absolute Error (MAE): 176.6851\n",
      "Mean Squared Error (MSE): 70407.4870\n",
      "Root Mean Squared Error (RMSE): 265.3441\n",
      "R-squared (R²): 0.9904\n"
     ]
    }
   ],
   "source": [
    "scaler = StandardScaler()\n",
    "X_train = scaler.fit_transform(X_train)\n",
    "X_test = scaler.transform(X_test)\n",
    "\n",
    "# Train Kernel Ridge Regression model\n",
    "model = KernelRidge(kernel='rbf', alpha=1.0, gamma=0.1)  # 'rbf' kernel for non-linearity\n",
    "model.fit(X_train, y_train)\n",
    "\n",
    "# Predict on the test set\n",
    "y_pred = model.predict(X_test)\n",
    "\n",
    "# Calculate performance metrics\n",
    "mae = mean_absolute_error(y_test, y_pred)\n",
    "mse = mean_squared_error(y_test, y_pred)\n",
    "rmse = np.sqrt(mse)\n",
    "r2 = r2_score(y_test, y_pred)\n",
    "\n",
    "# Display metrics\n",
    "print(\"Kernel Ridge Regression Metrics:\")\n",
    "print(f\"Mean Absolute Error (MAE): {mae:.4f}\")\n",
    "print(f\"Mean Squared Error (MSE): {mse:.4f}\")\n",
    "print(f\"Root Mean Squared Error (RMSE): {rmse:.4f}\")\n",
    "print(f\"R-squared (R²): {r2:.4f}\")"
   ]
  },
  {
   "cell_type": "markdown",
   "id": "9ead4076-6beb-4d44-82b1-91420849e5f6",
   "metadata": {},
   "source": [
    "#### 1.1.2 Random Forest with symmetry quantum numbers"
   ]
  },
  {
   "cell_type": "code",
   "execution_count": 22,
   "id": "6ad62823-2dcd-40fa-b2d1-b2b9cac1b233",
   "metadata": {},
   "outputs": [],
   "source": [
    "# Train a random forest regressor\n",
    "model = RandomForestRegressor(random_state=42, n_estimators=100)\n",
    "model.fit(X_train, y_train)\n",
    "\n",
    "# model predictions\n",
    "y_pred = model.predict(X_test)"
   ]
  },
  {
   "cell_type": "code",
   "execution_count": 23,
   "id": "ae8cd93f-e76c-4e7b-b40e-44c53ac54c16",
   "metadata": {},
   "outputs": [
    {
     "name": "stdout",
     "output_type": "stream",
     "text": [
      "Model Performance Metrics:\n",
      "Mean Absolute Error (MAE): 28.4275\n",
      "Mean Squared Error (MSE): 3683.5909\n",
      "Root Mean Squared Error (RMSE): 60.6926\n",
      "R-squared (R²): 0.9995\n"
     ]
    }
   ],
   "source": [
    "# performance metrics\n",
    "mae = mean_absolute_error(y_test, y_pred)\n",
    "mse = mean_squared_error(y_test, y_pred)\n",
    "rmse = np.sqrt(mse)\n",
    "r2 = r2_score(y_test, y_pred)\n",
    "\n",
    "print(\"Model Performance Metrics:\")\n",
    "print(f\"Mean Absolute Error (MAE): {mae:.4f}\")\n",
    "print(f\"Mean Squared Error (MSE): {mse:.4f}\")\n",
    "print(f\"Root Mean Squared Error (RMSE): {rmse:.4f}\")\n",
    "print(f\"R-squared (R²): {r2:.4f}\")"
   ]
  },
  {
   "cell_type": "markdown",
   "id": "ac5083fb-8c05-42a8-a6f0-6196fb9177e0",
   "metadata": {},
   "source": [
    "#### 1.1.3 Model comparison with symmetry quantum numbers\n",
    "The model performance metrics are collected in the following table:\n",
    "\n",
    "| Performance metric | Kernel ridge regression (No sym.)| Random Forest (No sym.)| Kernel ridge regression (with sym.)| Random Forest (with sym.) |\n",
    "|- |- |- | -| - |\n",
    "|Mean Absolute Error | $ 142.2962$ | $24.7488$| $176.6851$ | $28.4275$ |\n",
    "|Mean Squared Error| $ 48228.3108$ |$3129.1619$ | $70407.4870$ | $3683.5909$ |\n",
    "|Root Mean Squared Error | $219.6095$ | $55.9389$ | $265.3441$ | $60.6926$ |\n",
    "|$R^2$|$0.9934$ | $0.9996$ | $0.9904$ | $0.9995$ |\n",
    "\n",
    "Again here it can be seen that random forest outperforms kernel ridge regression. \n",
    "\n",
    "Also, it can be seen that the inclusion of the symmetry quantum numbers to the model decreases the performance metrics in both models. This implies that treating the symmetry by assigning arbitrarily numerical labels is not the correct way to implement this information for the models. Furthermonre, it will not present valuable information for the model to estimate the energy, and the inclusion of this features results in underfitting. "
   ]
  },
  {
   "cell_type": "markdown",
   "id": "a9a760c9-cc9e-43b1-92c7-d4409d9483df",
   "metadata": {},
   "source": [
    "### 1.3 Is it possible to clusterise the states based on their symmetries?\n",
    "To determine this, it is possible to perform a k-means fitting, in order to group all data points in $K$ different clusters maximizing the similarity between data points and distance between cluster centroids. "
   ]
  },
  {
   "cell_type": "code",
   "execution_count": 26,
   "id": "3a44bdd7-ecb8-4f63-a883-746e347d644a",
   "metadata": {},
   "outputs": [
    {
     "name": "stdout",
     "output_type": "stream",
     "text": [
      "Cluster Centers (Centroids):\n",
      " [[-0.34268722 -0.24189203  1.23561276  0.06322236 -0.04190475 -0.55738306\n",
      "  -0.55423473 -0.61062669 -0.08721501 -0.16315478  0.02243845  0.51406443\n",
      "  -0.10977225  0.48923607]\n",
      " [-0.41862975 -0.26523459 -0.22804666  0.65450785  1.15604981 -0.02119259\n",
      "   0.17063507  1.27184892  0.10503831  0.24544458 -0.01367232  0.06510973\n",
      "   1.3635019  -0.54612034]\n",
      " [-0.41533219 -0.30614934 -0.55764937 -0.0597309  -0.26111231 -0.02405251\n",
      "  -0.17313413 -0.42590687  0.31269655 -0.12228037 -0.01919468 -0.688325\n",
      "  -0.79687821 -0.94508152]\n",
      " [ 1.63901757 -0.35357324 -0.29091139 -0.3675706  -0.3865351  -0.16638664\n",
      "   0.30548071 -0.05182138 -0.2205035   0.0821422   0.01828461 -0.01941051\n",
      "  -0.24521528  0.72950461]\n",
      " [-0.22780137  1.64541518 -0.39086775 -0.44558468 -0.62031327  1.13756265\n",
      "   0.53698039 -0.03501446 -0.23114388  0.01557862 -0.00844389  0.21579008\n",
      "  -0.12325852  0.57952017]]\n"
     ]
    }
   ],
   "source": [
    "import pandas as pd\n",
    "from sklearn.cluster import KMeans\n",
    "from sklearn.preprocessing import StandardScaler\n",
    "import matplotlib.pyplot as plt\n",
    "import seaborn as sns\n",
    "\n",
    "# Standardize the data by scaling features\n",
    "scaler = StandardScaler()\n",
    "scaled_data = scaler.fit_transform(df)\n",
    "\n",
    "# Select number of clusters\n",
    "n_clusters = 5 \n",
    "\n",
    "# K-means fit\n",
    "kmeans = KMeans(n_clusters=n_clusters, random_state=42)\n",
    "kmeans.fit(scaled_data)\n",
    "\n",
    "# Get labels for each element\n",
    "labels = kmeans.labels_\n",
    "\n",
    "# Add labels to original DataFrame\n",
    "df['Cluster'] = labels\n",
    "\n",
    "# Get centroids\n",
    "print(\"Cluster Centers (Centroids):\\n\", kmeans.cluster_centers_)"
   ]
  },
  {
   "cell_type": "markdown",
   "id": "e2ada429-754f-4cf7-8ac5-4bc8d769de6e",
   "metadata": {},
   "source": [
    "It is possible to visualize how the clustering was performed by representing the symmetry and the energies and the cluster to which each point belongs:"
   ]
  },
  {
   "cell_type": "code",
   "execution_count": 28,
   "id": "3fabbc46-7f3b-437b-9407-1d78a781d4b8",
   "metadata": {},
   "outputs": [
    {
     "data": {
      "image/png": "[encoded data removed]",
      "text/plain": [
       "<Figure size 640x480 with 1 Axes>"
      ]
     },
     "metadata": {},
     "output_type": "display_data"
    }
   ],
   "source": [
    "# Plotting\n",
    "sns.scatterplot(x=df['Sym'], y=df['Energy'], hue=df['Cluster'], palette='viridis')\n",
    "plt.xticks([i for i in range(11)], sym_labs, rotation=-90)\n",
    "plt.title('K-Means Clustering')\n",
    "plt.xlabel('Symmetry')\n",
    "plt.ylabel('Energy')\n",
    "plt.show()"
   ]
  },
  {
   "cell_type": "markdown",
   "id": "ef0e956b-e2ed-4d5e-bf42-baafe19c07f8",
   "metadata": {},
   "source": [
    "Even though this figure shows different clusters that group distinct points, these clusters do not actually represent anything meaningful. This is because, when handling the symmetry labels for the K-means algorithm, arbitrary numbers are assigned to each symmetry state. In this case, integers from 0 to 11 are used for each symmetry state.\n",
    "\n",
    "The values assigned by the K-means algorithm to the symmetry labels do not represent true proximity between symmetry states. For example, two points with symmetries 0 and 11 are not necessarily further apart than two points with symmetries 1 and 2. It is only possible to determine that points are close along that axis if they share the same symmetry label.\n",
    "\n",
    "As a result of the arbitrary label assignment, if the labeling order were different, the clustering result would also change. Therfore, the proximity in this representation does not provide valuable information, as it is not possible to cluster states based on their symmetry."
   ]
  },
  {
   "cell_type": "markdown",
   "id": "d388d9bd-e8dc-4eea-834c-6de62fd4176e",
   "metadata": {},
   "source": [
    "## C$_2$\n",
    "From the [ExoMol website](https:www.exomol.com), download the states file for [$^{12}$C$_2$](https://exomol.com/db/C2/12C2/8states/12C2__8states.states.bz2) and [$^{13}$C$_2$](https://exomol.com/db/C2/13C2/8states/13C2__8states.states.bz2). \n",
    "\n",
    "\n",
    "\n",
    "| Index | Energy      | $g_\\mathrm{tot}$  | $J$ | Unc   | $\\tau$        | $g$    | $\\pm$ | ef | State         | v | $\\Lambda$ | $\\Sigma$ | $\\Omega$ | F$_{sym}$ | idx | src    | E$_{calc}$    |\n",
    "|-------|-------------|-----|-----|----------|------------|--------|-----|----|---------------|-----|-----|-----|-----|----------|-----|--------|-------------|\n",
    "| 1     | 0.000000    | 1   | 0   | 0.009813 | Inf        | 0.0000 | +   | e  | X(1SIGMA+g)   | 0   | 0   | 0   | 0   | F1       | 0   | d      | 0.000000    |\n",
    "| 2     | 1827.487599 | 1   | 0   | 0.000900 | 1.7058E+03 | 0.0000 | +   | e  | X(1SIGMA+g)   | 1   | 0   | 0   | 0   | F1       | 0   | m      | 1827.480518 |\n",
    "\n",
    "\n",
    "\"**NB:** The ExoMol states file is in the following format. (Old format, see the [most recent paper](https://doi.org/10.48550/arXiv.2406.06347) for the formatting of more recent data.\n",
    "| Field                  | Description                                                                 |\n",
    "|------------------------|-----------------------------------------------------------------------------|\n",
    "| `i`                    | State ID                                                                    |\n",
    "| $\\tilde{E}$            | Recommended state energy in $\\\\mathrm{cm^{-1}}$                            |\n",
    "| $g_\\mathrm{tot}$       | State degeneracy                                                            |\n",
    "| $J$                    | Total angular momentum quantum number, $J$ or $F$ (integer/half-integer)    |\n",
    "| Unc                    | Uncertainty in the state energy in $\\\\mathrm{cm^{-1}}$                       |\n",
    "| $\\tau$                 | State lifetime (aggregated radiative and predissociative lifetimes) in s    |\n",
    "| $g$                  | Landé $g$-factor (optional)                                                 |\n",
    "| QN                   | State quantum numbers, may be several columns (optional)                    |\n",
    "\n",
    "\n",
    "\n",
    "[ExoMol website for C2.](https://exomol.com/data/molecules/C2/12C2/8states/)\n"
   ]
  },
  {
   "cell_type": "markdown",
   "id": "d3014824-1af3-47a3-a1fe-06be2b8066b5",
   "metadata": {},
   "source": [
    "### 1. Predict the molecular constants for the $X(^1\\Sigma_g^+)$ and the $b(^3\\Sigma^-_g)$. Compare the constants obtained for $^{12}C_2$ with the ones available from the [NIST database](https://webbook.nist.gov/cgi/inchi?ID=C12070154&Mask=1000#Diatomic).\n",
    "\n",
    "As in the hands on, the energy is given by the formula:\n",
    "$$ E_{\\text{rovib, anharmonic}}(v, J) = T_e +  \\left( v + \\frac{1}{2} \\right) \\omega_e - \\left( v + \\frac{1}{2} \\right)^2 \\omega_e x_e  + \\left( B  - D_e J(J+1) \\right) J(J+1) + \\alpha_e J^2(J+1)^2$$\n",
    "\n",
    "The objective is to obtain the value of the constants. For this, a Random forest regression will be performed to obtain the ...\n",
    "\n",
    "We start by again loading the text files into pandas DataFrames and separate the states:"
   ]
  },
  {
   "cell_type": "code",
   "execution_count": 32,
   "id": "9314bf80-4188-4b4a-bd86-6ec47c031d5e",
   "metadata": {},
   "outputs": [],
   "source": [
    "# read the dataset file\n",
    "import pandas as pd \n",
    "df_c12 = pd.read_csv('12C2__8states.txt', sep=r'\\s+', engine='python', names=['Energy', 'gtot', 'J', 'Unc', 'tau', 'g', 'pm', 'ef', 'State',  'v', 'Lambda', 'Sigma', 'Omega', 'sym', 'idx', 'src','Ecalc'])\n",
    "df_c13 = pd.read_csv('13C2__8states.txt', sep=r'\\s+', engine='python', names=['Energy', 'gtot', 'J', 'Unc', 'tau', 'g', 'pm', 'ef', 'State',  'v', 'Lambda', 'Sigma', 'Omega', 'sym', 'idx', 'src','Ecalc'])\n",
    "df_c12 = df_c12.drop(columns=['gtot', 'Unc', 'tau', 'g', 'pm', 'ef', 'Lambda', 'Sigma', 'Omega', 'sym', 'idx', 'src','Ecalc'])\n",
    "df_c13 = df_c13.drop(columns=['gtot', 'Unc', 'tau', 'g', 'pm', 'ef', 'Lambda', 'Sigma', 'Omega', 'sym', 'idx', 'src','Ecalc'])\n",
    "\n",
    "df_c12_x = df_c12[df_c12['State'] == 'X(1SIGMA+g)']\n",
    "df_c12_b = df_c12[df_c12['State'] == 'b(3SIGMA-g)']\n",
    "df_c13_x = df_c13[df_c13['State'] == 'X(1SIGMA+g)']\n",
    "df_c13_b = df_c13[df_c13['State'] == 'b(3SIGMA-g)']"
   ]
  },
  {
   "cell_type": "markdown",
   "id": "d78d0ed5-0762-4045-9695-701a9f1008a5",
   "metadata": {},
   "source": [
    "We define the rovibrational energy formula as a function"
   ]
  },
  {
   "cell_type": "code",
   "execution_count": 34,
   "id": "86445dd7-db16-4382-9684-20cb537891e0",
   "metadata": {},
   "outputs": [],
   "source": [
    "def rovib_energy(v:int, j:int, constants: np.array) -> float:\n",
    "    te_term = constants[0]\n",
    "    ome_term = (v + .5) * constants[1]\n",
    "    omex_term = (v + .5)**2 * constants[2]\n",
    "    bd_term = (constants[3]-constants[4]*(j*(j+1)))*j*(j+1)\n",
    "    alpha_term = constants[5]*j**2*(j+1)**2\n",
    "    return te_term + ome_term - omex_term + bd_term + alpha_term"
   ]
  },
  {
   "cell_type": "markdown",
   "id": "be5fa366-4e7e-454e-b468-98d05cda8f86",
   "metadata": {},
   "source": [
    "First, we train a random forest regression model in order to predict the energy based in the quantum numbers:"
   ]
  },
  {
   "cell_type": "code",
   "execution_count": 36,
   "id": "c3d3a61f-ed08-4e1a-b8a7-185f19295178",
   "metadata": {},
   "outputs": [],
   "source": [
    "from sklearn.preprocessing import StandardScaler\n",
    "from sklearn.model_selection import train_test_split\n",
    "from sklearn.ensemble import RandomForestRegressor\n",
    "from sklearn.metrics import mean_absolute_error, mean_squared_error, r2_score\n",
    "import numpy as np \n",
    "from sklearn.linear_model import LinearRegression\n",
    "import matplotlib.pyplot as plt "
   ]
  },
  {
   "cell_type": "markdown",
   "id": "80a30150-4050-4ad7-804f-c40e153a4c8b",
   "metadata": {},
   "source": [
    "We can train a random forest regression model as follows, for example for the $X(^1\\Sigma_g^+)$ state:"
   ]
  },
  {
   "cell_type": "code",
   "execution_count": 38,
   "id": "42de2a5d-5a46-4715-82a6-cec5374ff271",
   "metadata": {},
   "outputs": [
    {
     "name": "stdout",
     "output_type": "stream",
     "text": [
      "Model Performance Metrics:\n",
      "Mean Absolute Error (MAE): 233.5426\n",
      "Mean Squared Error (MSE): 107866.6487\n",
      "Root Mean Squared Error (RMSE): 328.4306\n",
      "R-squared (R²): 0.9990\n"
     ]
    }
   ],
   "source": [
    "X = df_c12_b[['v', 'J']].values\n",
    "Y = df_c12_b['Energy'].values\n",
    "\n",
    "X_train, X_test, Y_train, Y_test = train_test_split(X, Y, test_size=0.20)\n",
    "rf_model = RandomForestRegressor(n_estimators=1000, random_state=42)#,criterion=\"squared_error\",oob_score=True,random_state=10)\n",
    "rf_model.fit(X_train, Y_train)\n",
    "\n",
    "\n",
    "# model predictions\n",
    "Y_pred_train = rf_model.predict(X_train)\n",
    "Y_pred_test = rf_model.predict(X_test)\n",
    "\n",
    "# performance metrics\n",
    "mae = mean_absolute_error(Y_test, Y_pred_test)\n",
    "mse = mean_squared_error(Y_test, Y_pred_test)\n",
    "rmse = np.sqrt(mse)\n",
    "r2 = r2_score(Y_test, Y_pred_test)\n",
    "\n",
    "print(\"Model Performance Metrics:\")\n",
    "print(f\"Mean Absolute Error (MAE): {mae:.4f}\")\n",
    "print(f\"Mean Squared Error (MSE): {mse:.4f}\")\n",
    "print(f\"Root Mean Squared Error (RMSE): {rmse:.4f}\")\n",
    "print(f\"R-squared (R²): {r2:.4f}\")"
   ]
  },
  {
   "cell_type": "markdown",
   "id": "eb1c21c7-9b1d-426d-9b75-65a95dc9797a",
   "metadata": {},
   "source": [
    "It can be seen that the random forest model obtains quite good performance metrics, with a high $R$ score and a mean absoulte error lower than 350 $cm^{-1}$, within the chemical accurracy. Also, it is possible to visualize how good is the fit by plotting the predictions against the true values. The perfect result would be that all the points were in the dashed diagonal line. "
   ]
  },
  {
   "cell_type": "code",
   "execution_count": 40,
   "id": "d5076f5c-4fe4-47bc-ad8b-3734e38a8154",
   "metadata": {},
   "outputs": [
    {
     "data": {
      "image/png": "[encoded data removed]",
      "text/plain": [
       "<Figure size 640x480 with 1 Axes>"
      ]
     },
     "metadata": {},
     "output_type": "display_data"
    }
   ],
   "source": [
    "plt.xlim(10000,12000)\n",
    "plt.ylim(10000,12000)\n",
    "plt.plot([0, 24000], [0, 24000], color='red', linestyle='--')\n",
    "plt.plot(Y_train, Y_pred_train,\"o\", label='Train set')\n",
    "plt.plot(Y_test, Y_pred_test,\"o\", label='Test set')\n",
    "\n",
    "plt.xlabel('True Values')\n",
    "plt.ylabel('Predictions')\n",
    "plt.title('True Values vs Predictions')\n",
    "plt.show()"
   ]
  },
  {
   "cell_type": "code",
   "execution_count": 41,
   "id": "be3dc890-8da7-4e0f-98ca-ed154ec109c8",
   "metadata": {},
   "outputs": [
    {
     "data": {
      "image/png": "[encoded data removed]",
      "text/plain": [
       "<Figure size 640x480 with 1 Axes>"
      ]
     },
     "metadata": {},
     "output_type": "display_data"
    }
   ],
   "source": [
    "plt.xlim(20000,22000)\n",
    "plt.ylim(20000,22000)\n",
    "plt.plot([0, 24000], [0, 24000], color='red', linestyle='--')\n",
    "plt.plot(Y_train, Y_pred_train,\"o\", label='Train set')\n",
    "plt.plot(Y_test, Y_pred_test,\"o\", label='Test set')\n",
    "\n",
    "plt.xlabel('True Values')\n",
    "plt.ylabel('Predictions')\n",
    "plt.title('True Values vs Predictions')\n",
    "plt.show()"
   ]
  },
  {
   "cell_type": "markdown",
   "id": "332a49d4-7180-4bfb-a2cb-a8b36bccd0c4",
   "metadata": {},
   "source": [
    "It can be seen that while the model predicts well the energy, there is some error when making predictions, that can be seen to be larger at larger energies. \n",
    "\n",
    "In order to extract the coefficients of the formula to compare it with tabulated data, it is possible to break down the energy formula in different contributions of the following terms:\n",
    "- $(v +0.5)   · \\omega_e$\n",
    "- $(v +0.5)^2 · \\omega_ex_e$\n",
    "- $J(J+1)     · B$\n",
    "- $J^2(J+1)^2 · (\\alpha_e-D_e)$\n",
    "\n",
    "Then it is possible to use this new values as features and perform a linear regression to obtain the constants. In the case of the $X(^1\\Sigma_g^+)$ state:"
   ]
  },
  {
   "cell_type": "code",
   "execution_count": 43,
   "id": "4153d614-fa79-4cd6-ba46-34c6fe68f318",
   "metadata": {},
   "outputs": [
    {
     "name": "stdout",
     "output_type": "stream",
     "text": [
      "Model Performance Metrics:\n",
      "Mean Absolute Error (MAE): 115.7495\n",
      "Mean Squared Error (MSE): 36967.0373\n",
      "Root Mean Squared Error (RMSE): 192.2681\n",
      "R-squared (R²): 0.9997\n",
      "    \n",
      "Predicted Coefficients:\n",
      "a1: 1406.8325977790062\n",
      "a2: -10.974651868146294\n",
      "a3: 1.098899582510739\n",
      "a4: 1.192138100591933e-05\n",
      "    \n",
      "Difference in coefs /ratio\n",
      "a1: 0.24148109527688633\n",
      "a2: 0.17731245366219683\n",
      "a3: 0.3961426626493356\n",
      "a4: 0.9993245676483898\n",
      "    \n"
     ]
    }
   ],
   "source": [
    "X = df_c12_x[['v', 'J']].values\n",
    "Y = df_c12_x['Energy'].values\n",
    "\n",
    "true_coefficients = [0, 1854.71, 13.340, 1.8198, 0.01765, 0.00000692]\n",
    "\n",
    "X_train, X_test, Y_train, Y_test = train_test_split(X, Y, test_size=0.20, random_state=42)\n",
    "rf_model = RandomForestRegressor(n_estimators=1000, random_state=42)\n",
    "rf_model.fit(X_train, Y_train)\n",
    "\n",
    "y_pred_rf_est = rf_model.predict(X_test)\n",
    "y_pred_rf = rf_model.predict(X_train)\n",
    "\n",
    "# model predictions\n",
    "Y_pred_train = rf_model.predict(X_train)\n",
    "Y_pred_test = rf_model.predict(X_test)\n",
    "\n",
    "# performance metrics\n",
    "mae = mean_absolute_error(Y_test, Y_pred_test)\n",
    "mse = mean_squared_error(Y_test, Y_pred_test)\n",
    "rmse = np.sqrt(mse)\n",
    "r2 = r2_score(Y_test, Y_pred_test)\n",
    "\n",
    "print(\"Model Performance Metrics:\")\n",
    "print(f\"Mean Absolute Error (MAE): {mae:.4f}\")\n",
    "print(f\"Mean Squared Error (MSE): {mse:.4f}\")\n",
    "print(f\"Root Mean Squared Error (RMSE): {rmse:.4f}\")\n",
    "print(f\"R-squared (R²): {r2:.4f}\")\n",
    "print(f\"    \")\n",
    "\n",
    "# transform the features to the individual contributions\n",
    "X_transformed = np.column_stack([\n",
    "    (X_test[:, 0] + 0.5), \n",
    "    (X_test[:, 0] + 0.5) ** 2,\n",
    "    (X_test[:, 1] * (X_test[:, 1] + 1)), \n",
    "    (X_test[:, 1] ** 2) * (X_test[:, 1] + 1) ** 2  \n",
    "    ])\n",
    "# Fit the linear regression model\n",
    "linear_model = LinearRegression()\n",
    "linear_model.fit(X_transformed, y_pred_rf_est)\n",
    "predicted_coefficients = linear_model.coef_\n",
    "\n",
    "print(f\"Predicted Coefficients:\")\n",
    "print(f\"a1: {predicted_coefficients[0]}\")\n",
    "print(f\"a2: {predicted_coefficients[1]}\")\n",
    "print(f\"a3: {predicted_coefficients[2]}\")\n",
    "print(f\"a4: {predicted_coefficients[3]}\")\n",
    "print(f\"    \")\n",
    "\n",
    "print(f\"Difference in coefs /ratio\")\n",
    "print(f\"a1: {(true_coefficients[1] - predicted_coefficients[0])/true_coefficients[1]}\")\n",
    "print(f\"a2: {(true_coefficients[2] - np.abs(predicted_coefficients[1]))/true_coefficients[2]}\")\n",
    "print(f\"a3: {(true_coefficients[3] - np.abs(predicted_coefficients[2]))/true_coefficients[3]}\")\n",
    "print(f\"a4: {(true_coefficients[4] - np.abs(predicted_coefficients[3]))/true_coefficients[4]}\")\n",
    "print(f\"    \")"
   ]
  },
  {
   "cell_type": "markdown",
   "id": "73058b59-e0a4-4f94-ab34-9da4b5f190fb",
   "metadata": {},
   "source": [
    "Following the same procedure for the $b(^3\\Sigma^-_g)$ state: "
   ]
  },
  {
   "cell_type": "code",
   "execution_count": 45,
   "id": "857bdd5e-e0c3-478e-aae9-0fedd58a32e6",
   "metadata": {},
   "outputs": [
    {
     "name": "stdout",
     "output_type": "stream",
     "text": [
      "Model Performance Metrics:\n",
      "Mean Absolute Error (MAE): 226.4336\n",
      "Mean Squared Error (MSE): 113722.8480\n",
      "Root Mean Squared Error (RMSE): 337.2282\n",
      "R-squared (R²): 0.9990\n",
      "    \n",
      "Predicted Coefficients:\n",
      "a1: 1248.9249217552879\n",
      "a2: -5.863671380863928\n",
      "a3: 1.1790627682326074\n",
      "a4: 1.4986031642294506e-06\n",
      "    \n",
      "Difference in coefs /ratio\n",
      "a1: 0.15065121442055981\n",
      "a2: 0.4759900463928572\n",
      "a3: 0.21318182724781298\n",
      "a4: 1.0172253237267752\n",
      "    \n"
     ]
    }
   ],
   "source": [
    "X = df_c12_b[['v', 'J']].values\n",
    "Y = df_c12_b['Energy'].values\n",
    "\n",
    "true_coefficients = [6434.27, 1470.45, 11.19, 1.49852, -0.000087]\n",
    "\n",
    "X_train, X_test, Y_train, Y_test = train_test_split(X, Y, test_size=0.20, random_state=42)\n",
    "rf_model = RandomForestRegressor(n_estimators=1000, random_state=42)\n",
    "rf_model.fit(X_train, Y_train)\n",
    "\n",
    "y_pred_rf_est = rf_model.predict(X_test)\n",
    "y_pred_rf = rf_model.predict(X_train)\n",
    "\n",
    "# model predictions\n",
    "Y_pred_train = rf_model.predict(X_train)\n",
    "Y_pred_test = rf_model.predict(X_test)\n",
    "\n",
    "# performance metrics\n",
    "mae = mean_absolute_error(Y_test, Y_pred_test)\n",
    "mse = mean_squared_error(Y_test, Y_pred_test)\n",
    "rmse = np.sqrt(mse)\n",
    "r2 = r2_score(Y_test, Y_pred_test)\n",
    "\n",
    "print(\"Model Performance Metrics:\")\n",
    "print(f\"Mean Absolute Error (MAE): {mae:.4f}\")\n",
    "print(f\"Mean Squared Error (MSE): {mse:.4f}\")\n",
    "print(f\"Root Mean Squared Error (RMSE): {rmse:.4f}\")\n",
    "print(f\"R-squared (R²): {r2:.4f}\")\n",
    "print(f\"    \")\n",
    "\n",
    "\n",
    "# transform the features to the individual contributions\n",
    "X_transformed = np.column_stack([\n",
    "    (X_test[:, 0] + 0.5), \n",
    "    (X_test[:, 0] + 0.5) ** 2,\n",
    "    (X_test[:, 1] * (X_test[:, 1] + 1)), \n",
    "    (X_test[:, 1] ** 2) * (X_test[:, 1] + 1) ** 2  \n",
    "    ])\n",
    "# Fit the linear regression model\n",
    "linear_model = LinearRegression()\n",
    "linear_model.fit(X_transformed, y_pred_rf_est)\n",
    "predicted_coefficients = linear_model.coef_\n",
    "\n",
    "print(f\"Predicted Coefficients:\")\n",
    "print(f\"a1: {predicted_coefficients[0]}\")\n",
    "print(f\"a2: {predicted_coefficients[1]}\")\n",
    "print(f\"a3: {predicted_coefficients[2]}\")\n",
    "print(f\"a4: {predicted_coefficients[3]}\")\n",
    "print(f\"    \")\n",
    "\n",
    "print(f\"Difference in coefs /ratio\")\n",
    "print(f\"a1: {(true_coefficients[1] - predicted_coefficients[0])/true_coefficients[1]}\")\n",
    "print(f\"a2: {(true_coefficients[2] - np.abs(predicted_coefficients[1]))/true_coefficients[2]}\")\n",
    "print(f\"a3: {(true_coefficients[3] - np.abs(predicted_coefficients[2]))/true_coefficients[3]}\")\n",
    "print(f\"a4: {(true_coefficients[4] - np.abs(predicted_coefficients[3]))/true_coefficients[4]}\")\n",
    "print(f\"    \")"
   ]
  },
  {
   "cell_type": "markdown",
   "id": "e4791373-abd6-4aaa-8f0d-54a1f95ffd5a",
   "metadata": {},
   "source": [
    "The values of the constants obtained by the fitting and the real constants are shown in the following table in the case of the $X(^1\\Sigma_g^+)$ state:\n",
    "\n",
    "|constant| Nist | RF/LR |\n",
    "|--------|------|-------|\n",
    "|$\\omega_e$|1406.83|1854.71|\n",
    "|$\\omega_ex_e$|10.97|13.34|\n",
    "|$B_e$|1.09|1.82|\n",
    "|$\\alpha_e$|1.19e-05|0.01765|\n",
    "\n",
    "And for the $b(^3\\Sigma^-_g)$ state: \n",
    "|constant| Nist | RF/LR |\n",
    "|--------|------|-------|\n",
    "|$\\omega_e$|1248.92|1470.45|\n",
    "|$\\omega_ex_e$|5.86| 11.19|\n",
    "|$B_e$|1.18| 1.50|\n",
    "|$\\alpha_e$| 1.49e-06|1.49|\n",
    "\n",
    "From the previous results, it can be seen that even though the random forest regression model presents good results, triying to extract directly the constant values can result in a poor descriptin of them, as in this case, with high relative error. This highlights the complexity of the random forest model and how it treats with non-linearity of data, but sometimes it can be difficult to infere how the model actually is processing the data to make predictions. \n",
    "\n",
    "The same procedure can be followed for the $^{13}C_2$ molecule:"
   ]
  },
  {
   "cell_type": "code",
   "execution_count": 47,
   "id": "306dd3a2-9a33-4ee2-82e5-e8959cec67dd",
   "metadata": {},
   "outputs": [
    {
     "name": "stdout",
     "output_type": "stream",
     "text": [
      "Model Performance Metrics:\n",
      "Mean Absolute Error (MAE): 7717.7758\n",
      "Mean Squared Error (MSE): 225454792.8181\n",
      "Root Mean Squared Error (RMSE): 15015.1521\n",
      "R-squared (R²): 0.6984\n",
      "    \n",
      "Predicted Coefficients:\n",
      "a1: -187.70632655065194\n",
      "a2: -3.4438678641131117\n",
      "a3: 0.16978458221563944\n",
      "a4: -1.319548195155562e-07\n",
      "    \n"
     ]
    }
   ],
   "source": [
    "X = df_c13_x[['v', 'J']].values\n",
    "Y = df_c13_x['Energy'].values\n",
    "\n",
    "X_train, X_test, Y_train, Y_test = train_test_split(X, Y, test_size=0.20, random_state=42)\n",
    "rf_model = RandomForestRegressor(n_estimators=1000, random_state=42)\n",
    "rf_model.fit(X_train, Y_train)\n",
    "\n",
    "y_pred_rf_est = rf_model.predict(X_test)\n",
    "y_pred_rf = rf_model.predict(X_train)\n",
    "\n",
    "# model predictions\n",
    "Y_pred_train = rf_model.predict(X_train)\n",
    "Y_pred_test = rf_model.predict(X_test)\n",
    "\n",
    "# performance metrics\n",
    "mae = mean_absolute_error(Y_test, Y_pred_test)\n",
    "mse = mean_squared_error(Y_test, Y_pred_test)\n",
    "rmse = np.sqrt(mse)\n",
    "r2 = r2_score(Y_test, Y_pred_test)\n",
    "\n",
    "print(\"Model Performance Metrics:\")\n",
    "print(f\"Mean Absolute Error (MAE): {mae:.4f}\")\n",
    "print(f\"Mean Squared Error (MSE): {mse:.4f}\")\n",
    "print(f\"Root Mean Squared Error (RMSE): {rmse:.4f}\")\n",
    "print(f\"R-squared (R²): {r2:.4f}\")\n",
    "print(f\"    \")\n",
    "\n",
    "\n",
    "# transform the features to the individual contributions\n",
    "X_transformed = np.column_stack([\n",
    "    (X_test[:, 0] + 0.5), \n",
    "    (X_test[:, 0] + 0.5) ** 2,\n",
    "    (X_test[:, 1] * (X_test[:, 1] + 1)), \n",
    "    (X_test[:, 1] ** 2) * (X_test[:, 1] + 1) ** 2  \n",
    "    ])\n",
    "# Fit the linear regression model\n",
    "linear_model = LinearRegression()\n",
    "linear_model.fit(X_transformed, y_pred_rf_est)\n",
    "predicted_coefficients = linear_model.coef_\n",
    "\n",
    "print(f\"Predicted Coefficients:\")\n",
    "print(f\"a1: {predicted_coefficients[0]}\")\n",
    "print(f\"a2: {predicted_coefficients[1]}\")\n",
    "print(f\"a3: {predicted_coefficients[2]}\")\n",
    "print(f\"a4: {predicted_coefficients[3]}\")\n",
    "print(f\"    \")"
   ]
  },
  {
   "cell_type": "code",
   "execution_count": 48,
   "id": "268c68ff-bdba-48d8-a27f-45a77bb16553",
   "metadata": {},
   "outputs": [
    {
     "name": "stdout",
     "output_type": "stream",
     "text": [
      "Model Performance Metrics:\n",
      "Mean Absolute Error (MAE): 7995.8694\n",
      "Mean Squared Error (MSE): 234960393.5389\n",
      "Root Mean Squared Error (RMSE): 15328.4178\n",
      "R-squared (R²): 0.7006\n",
      "    \n",
      "Predicted Coefficients:\n",
      "a1: -93.63456753360752\n",
      "a2: -12.853850696284102\n",
      "a3: 0.14830920925882693\n",
      "a4: -1.019557647197189e-07\n",
      "    \n"
     ]
    }
   ],
   "source": [
    "X = df_c13_b[['v', 'J']].values\n",
    "Y = df_c13_b['Energy'].values\n",
    "\n",
    "X_train, X_test, Y_train, Y_test = train_test_split(X, Y, test_size=0.20, random_state=42)\n",
    "rf_model = RandomForestRegressor(n_estimators=1000, random_state=42)\n",
    "rf_model.fit(X_train, Y_train)\n",
    "\n",
    "y_pred_rf_est = rf_model.predict(X_test)\n",
    "y_pred_rf = rf_model.predict(X_train)\n",
    "\n",
    "# model predictions\n",
    "Y_pred_train = rf_model.predict(X_train)\n",
    "Y_pred_test = rf_model.predict(X_test)\n",
    "\n",
    "# performance metrics\n",
    "mae = mean_absolute_error(Y_test, Y_pred_test)\n",
    "mse = mean_squared_error(Y_test, Y_pred_test)\n",
    "rmse = np.sqrt(mse)\n",
    "r2 = r2_score(Y_test, Y_pred_test)\n",
    "\n",
    "print(\"Model Performance Metrics:\")\n",
    "print(f\"Mean Absolute Error (MAE): {mae:.4f}\")\n",
    "print(f\"Mean Squared Error (MSE): {mse:.4f}\")\n",
    "print(f\"Root Mean Squared Error (RMSE): {rmse:.4f}\")\n",
    "print(f\"R-squared (R²): {r2:.4f}\")\n",
    "print(f\"    \")\n",
    "\n",
    "\n",
    "# transform the features to the individual contributions\n",
    "X_transformed = np.column_stack([\n",
    "    (X_test[:, 0] + 0.5), \n",
    "    (X_test[:, 0] + 0.5) ** 2,\n",
    "    (X_test[:, 1] * (X_test[:, 1] + 1)), \n",
    "    (X_test[:, 1] ** 2) * (X_test[:, 1] + 1) ** 2  \n",
    "    ])\n",
    "# Fit the linear regression model\n",
    "linear_model = LinearRegression()\n",
    "linear_model.fit(X_transformed, y_pred_rf_est)\n",
    "predicted_coefficients = linear_model.coef_\n",
    "\n",
    "print(f\"Predicted Coefficients:\")\n",
    "print(f\"a1: {predicted_coefficients[0]}\")\n",
    "print(f\"a2: {predicted_coefficients[1]}\")\n",
    "print(f\"a3: {predicted_coefficients[2]}\")\n",
    "print(f\"a4: {predicted_coefficients[3]}\")\n",
    "print(f\"    \")"
   ]
  },
  {
   "cell_type": "markdown",
   "id": "015627db-0b11-4034-84e6-128c5611c08b",
   "metadata": {},
   "source": [
    "From these results, it can be seen that the models built are not accurrate, as they present poor performance metrics in both cases and negative constant values, which don't make physical sense.\n",
    "\n",
    "### Use a Kernel model to reproduce the heat capacity and partition function of $^{12}C_2$."
   ]
  },
  {
   "cell_type": "code",
   "execution_count": 50,
   "id": "bd884d3d-b51c-4d4b-9a7b-1f55f89905a9",
   "metadata": {},
   "outputs": [],
   "source": [
    "df_hc = pd.read_csv('12C2__8states.cp.txt', sep=r'\\s+', engine='python', names=['T', 'hc'])\n",
    "df_pf = pd.read_csv('12C2__8states.pf.txt', sep=r'\\s+', engine='python', names=['T', 'z'])"
   ]
  },
  {
   "cell_type": "code",
   "execution_count": 51,
   "id": "5d4d2755-48d8-4b47-9115-2a6d3d877c89",
   "metadata": {},
   "outputs": [
    {
     "name": "stdout",
     "output_type": "stream",
     "text": [
      "Kernel Ridge Regression Metrics:\n",
      "Mean Absolute Error (MAE): 0.5289\n",
      "Mean Squared Error (MSE): 1.1999\n",
      "Root Mean Squared Error (RMSE): 1.0954\n",
      "R-squared (R²): 0.8323\n"
     ]
    }
   ],
   "source": [
    "X = df_hc[['T']]\n",
    "y = df_hc[['hc']]\n",
    "\n",
    "# we generate the train and test sets \n",
    "X_train, X_test, y_train, y_test = train_test_split(X, y, test_size=0.2, random_state=42)\n",
    "\n",
    "from sklearn.kernel_ridge import KernelRidge\n",
    "scaler = StandardScaler()\n",
    "X_train = scaler.fit_transform(X_train)\n",
    "X_test = scaler.transform(X_test)\n",
    "\n",
    "# Train Kernel Ridge Regression model\n",
    "model = KernelRidge(kernel='rbf', alpha=1.0, gamma=0.1)  # 'rbf' kernel for non-linearity\n",
    "model.fit(X_train, y_train)\n",
    "\n",
    "# Predict on the test set\n",
    "y_pred = model.predict(X_test)\n",
    "\n",
    "# Calculate performance metrics\n",
    "mae = mean_absolute_error(y_test, y_pred)\n",
    "mse = mean_squared_error(y_test, y_pred)\n",
    "rmse = np.sqrt(mse)\n",
    "r2 = r2_score(y_test, y_pred)\n",
    "\n",
    "# Display metrics\n",
    "print(\"Kernel Ridge Regression Metrics:\")\n",
    "print(f\"Mean Absolute Error (MAE): {mae:.4f}\")\n",
    "print(f\"Mean Squared Error (MSE): {mse:.4f}\")\n",
    "print(f\"Root Mean Squared Error (RMSE): {rmse:.4f}\")\n",
    "print(f\"R-squared (R²): {r2:.4f}\")"
   ]
  },
  {
   "cell_type": "code",
   "execution_count": 52,
   "id": "4c4a03e6-7b89-45eb-98cd-d991ec69d135",
   "metadata": {},
   "outputs": [
    {
     "name": "stdout",
     "output_type": "stream",
     "text": [
      "Kernel Ridge Regression Metrics:\n",
      "Mean Absolute Error (MAE): 652.3292\n",
      "Mean Squared Error (MSE): 853488.7829\n",
      "Root Mean Squared Error (RMSE): 923.8446\n",
      "R-squared (R²): 0.9992\n"
     ]
    }
   ],
   "source": [
    "X = df_pf[['T']]\n",
    "y = df_pf[['z']]\n",
    "\n",
    "# we generate the train and test sets \n",
    "X_train, X_test, y_train, y_test = train_test_split(X, y, test_size=0.2, random_state=42)\n",
    "\n",
    "from sklearn.kernel_ridge import KernelRidge\n",
    "scaler = StandardScaler()\n",
    "X_train = scaler.fit_transform(X_train)\n",
    "X_test = scaler.transform(X_test)\n",
    "\n",
    "# Train Kernel Ridge Regression model\n",
    "model = KernelRidge(kernel='rbf', alpha=1.0, gamma=0.1)  # 'rbf' kernel for non-linearity\n",
    "model.fit(X_train, y_train)\n",
    "\n",
    "# Predict on the test set\n",
    "y_pred = model.predict(X_test)\n",
    "\n",
    "# Calculate performance metrics\n",
    "mae = mean_absolute_error(y_test, y_pred)\n",
    "mse = mean_squared_error(y_test, y_pred)\n",
    "rmse = np.sqrt(mse)\n",
    "r2 = r2_score(y_test, y_pred)\n",
    "\n",
    "# Display metrics\n",
    "print(\"Kernel Ridge Regression Metrics:\")\n",
    "print(f\"Mean Absolute Error (MAE): {mae:.4f}\")\n",
    "print(f\"Mean Squared Error (MSE): {mse:.4f}\")\n",
    "print(f\"Root Mean Squared Error (RMSE): {rmse:.4f}\")\n",
    "print(f\"R-squared (R²): {r2:.4f}\")"
   ]
  },
  {
   "cell_type": "markdown",
   "id": "2d5bb502-e003-4ae0-9488-7d30e47f232c",
   "metadata": {},
   "source": [
    "The result of the performance metrics for the ridge regression model in both cases is collected in the following table:\n",
    "|Metric|Heat capacity|Partition function|\n",
    "|-|-|-|\n",
    "|MAE   | 0.5289 | 652.33|\n",
    "|MSE   | 1.1999 | 853488.78|\n",
    "|RMSE  | 1.0954 | 923.84|\n",
    "|$R^2$ |  0.8323|  0.9992|\n",
    "\n",
    "From this results, it can be seen that the kernel model performs adequately in the case of the partition function, but is not good at predicting the heat capacity. It can be seen that the, mean absolunte error in the heat capacity of this model is two times the difference between the smallest and largest heat capacity. Thus, the results of this model are completely unreliable. \n",
    "\n",
    "In the case of the partition function, the performance metrics are better, but still the MAE and RMSE suggest that there could be errors in the model, specially at low temperatures, where the partition function values are small."
   ]
  },
  {
   "cell_type": "markdown",
   "id": "759cc099-84e6-4c39-a40a-3c37faf7efda",
   "metadata": {},
   "source": [
    "# Conclusions \n",
    "In this work, machine learning was used to predict energy levels for  $C_2H_2$ and molecular constants for $C_2$ using various machine learning techniques. For $C_2H_2$, kernel ridge regression and random forest regression models were applied, with the random forest model performing better due to its ability to handle complex, non-linear data. Including symmetry as features in the regression models made them less accurate. When predicting molecular constants for $C_2$ using random forest regression, the model showed reasonable accuracy, but the extracted molecular constants had significant errors compared to the NIST database. Lastly, a kernel model was trained to predict heat capacity and the partition function for \n",
    "$C_2$, performing poorly for heat capacity but adequately for the partition function."
   ]
  }
 ],
 "metadata": {
  "kernelspec": {
   "display_name": "Python 3 (ipykernel)",
   "language": "python",
   "name": "python3"
  },
  "language_info": {
   "codemirror_mode": {
    "name": "ipython",
    "version": 3
   },
   "file_extension": ".py",
   "mimetype": "text/x-python",
   "name": "python",
   "nbconvert_exporter": "python",
   "pygments_lexer": "ipython3",
   "version": "3.11.7"
  }
 },
 "nbformat": 4,
 "nbformat_minor": 5
}
